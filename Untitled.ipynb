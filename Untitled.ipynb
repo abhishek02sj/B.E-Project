{
 "cells": [
  {
   "cell_type": "code",
   "execution_count": 1,
   "id": "2cf91566",
   "metadata": {},
   "outputs": [],
   "source": [
    "import keras\n",
    "import tensorflow\n",
    "import os\n",
    "from keras.layers import Input\n",
    "from tensorflow.keras.preprocessing.image import ImageDataGenerator\n",
    "from keras.layers import Flatten, Dense, Conv2D, MaxPooling2D, Dropout\n",
    "from tensorflow.keras.layers import Dropout\n",
    "from tensorflow.keras.layers import Flatten\n",
    "from tensorflow.keras.layers import Dense\n",
    "from tensorflow.keras.layers import Input\n",
    "from keras.layers import BatchNormalization\n",
    "from tensorflow.keras import Sequential\n",
    "from tensorflow.keras.optimizers import Adam\n",
    "from tensorflow.keras.preprocessing.image import img_to_array\n",
    "from tensorflow.keras.preprocessing.image import load_img\n",
    "from tensorflow.keras.utils import to_categorical\n",
    "from sklearn.preprocessing import LabelBinarizer\n",
    "from sklearn.model_selection import train_test_split\n",
    "from sklearn.metrics import classification_report\n",
    "from imutils import paths\n",
    "import matplotlib.pyplot as plt\n",
    "from keras.models import Model\n",
    "from sklearn.utils import shuffle\n",
    "from cv2 import imread\n",
    "import numpy as np\n",
    "import pandas as pd"
   ]
  },
  {
   "cell_type": "code",
   "execution_count": 2,
   "id": "56323a31",
   "metadata": {},
   "outputs": [],
   "source": [
    "data = []\n",
    "labels = []\n",
    "width,height=150,150\n",
    "\n",
    "imagePaths = list(paths.list_images('input/diabetic-retinopathy-224x224-gaussian-filtered/gaussian_filtered_images/gaussian_filtered_images'))\n",
    "data = []\n",
    "labels = []"
   ]
  },
  {
   "cell_type": "code",
   "execution_count": 3,
   "id": "b9d88076",
   "metadata": {},
   "outputs": [],
   "source": [
    "for imagePath in imagePaths:\n",
    "    label = imagePath.split(os.path.sep)[-2]\n",
    "    #print(imagePath)\n",
    "    image = load_img(imagePath, target_size=(width, height))\n",
    "    image = img_to_array(image)\n",
    "    data.append(image)\n",
    "    labels.append(label)"
   ]
  },
  {
   "cell_type": "code",
   "execution_count": 4,
   "id": "95f2c096",
   "metadata": {},
   "outputs": [
    {
     "name": "stdout",
     "output_type": "stream",
     "text": [
      "(3662, 150, 150, 3)\n",
      "(3662, 5)\n"
     ]
    }
   ],
   "source": [
    "data = np.array(data, dtype=\"float32\")\n",
    "labels = np.array(labels)\n",
    "lb = LabelBinarizer()\n",
    "labels = lb.fit_transform(labels)\n",
    "#labels = to_categorical(labels)\n",
    "\n",
    "data, labels = shuffle(data, labels)\n",
    "\n",
    "print(data.shape)\n",
    "print(labels.shape)"
   ]
  },
  {
   "cell_type": "code",
   "execution_count": 7,
   "id": "edbde49f",
   "metadata": {},
   "outputs": [
    {
     "name": "stdout",
     "output_type": "stream",
     "text": [
      "Train images: (2746, 150, 150, 3)\n",
      "Test images: (916, 150, 150, 3)\n",
      "Train label: (2746, 5)\n",
      "Test label: (916, 5)\n"
     ]
    }
   ],
   "source": [
    "test_ratio = 0.25\n",
    "\n",
    "# train is now 75% of the entire data set\n",
    "x_train, x_test, y_train, y_test = train_test_split(data, labels, test_size=test_ratio)\n",
    "\n",
    "print(\"Train images:\",x_train.shape)\n",
    "print(\"Test images:\",x_test.shape)\n",
    "print(\"Train label:\",y_train.shape)\n",
    "print(\"Test label:\",y_test.shape)"
   ]
  },
  {
   "cell_type": "code",
   "execution_count": 8,
   "id": "8dec69d7",
   "metadata": {},
   "outputs": [
    {
     "name": "stdout",
     "output_type": "stream",
     "text": [
      "Model: \"sequential_1\"\n",
      "_________________________________________________________________\n",
      " Layer (type)                Output Shape              Param #   \n",
      "=================================================================\n",
      " vgg16 (Functional)          (None, 4, 4, 512)         14714688  \n",
      "                                                                 \n",
      " flatten_1 (Flatten)         (None, 8192)              0         \n",
      "                                                                 \n",
      " dense_2 (Dense)             (None, 100)               819300    \n",
      "                                                                 \n",
      " dense_3 (Dense)             (None, 5)                 505       \n",
      "                                                                 \n",
      "=================================================================\n",
      "Total params: 15,534,493\n",
      "Trainable params: 15,534,493\n",
      "Non-trainable params: 0\n",
      "_________________________________________________________________\n"
     ]
    }
   ],
   "source": [
    "from keras.models import Model\n",
    "from keras.layers import Input \n",
    "from keras.applications.vgg16 import VGG16\n",
    "from keras import layers\n",
    "\n",
    "INIT_LR = 1e-4\n",
    "EPOCHS = 1\n",
    "BS = 2\n",
    "\n",
    "vgg = VGG16(weights= \"imagenet\", include_top=False, input_shape= (150,150,3)) \n",
    "\n",
    "model = Sequential()\n",
    "model.add(vgg)\n",
    "model.add(layers.Flatten())\n",
    "model.add(layers.Dense(100, activation = 'relu'))\n",
    "model.add(layers.Dense(5, activation = 'sigmoid'))\n",
    "\n",
    "opt = Adam(learning_rate=INIT_LR)\n",
    "model.compile(optimizer=opt, loss='binary_crossentropy', metrics=['accuracy'])\n",
    "model.summary()"
   ]
  },
  {
   "cell_type": "code",
   "execution_count": 9,
   "id": "ce56342c",
   "metadata": {},
   "outputs": [
    {
     "name": "stdout",
     "output_type": "stream",
     "text": [
      "[INFO] training head..\n",
      "86/86 [==============================] - 1835s 21s/step - loss: 0.3859 - accuracy: 0.6551\n",
      "Done !!\n"
     ]
    }
   ],
   "source": [
    "print(\"[INFO] training head..\")\n",
    "h = model.fit(x_train,y_train,epochs=EPOCHS)\n",
    "print(\"Done !!\")"
   ]
  },
  {
   "cell_type": "code",
   "execution_count": 10,
   "id": "d9819e1c",
   "metadata": {},
   "outputs": [
    {
     "name": "stdout",
     "output_type": "stream",
     "text": [
      "[INFO] evaluating network...\n",
      "458/458 [==============================] - 107s 234ms/step\n",
      "1373/1373 [==============================] - 361s 263ms/step\n",
      "\n",
      "Trainig Accuracy Score:- 68.90021849963584\n",
      "\n",
      "Testing Accuracy Score:- 70.3056768558952\n",
      "\n",
      "Traning Graph:- \n",
      " \n"
     ]
    },
    {
     "data": {
      "image/png": "[encoded data removed]",
      "text/plain": [
       "<Figure size 640x480 with 1 Axes>"
      ]
     },
     "metadata": {},
     "output_type": "display_data"
    }
   ],
   "source": [
    "#!pip install scikit-plot\n",
    "from sklearn.metrics import classification_report\n",
    "import matplotlib.pyplot as plt\n",
    "import numpy as np\n",
    "import scikitplot as skplt\n",
    "from sklearn.metrics import accuracy_score\n",
    "import numpy as np\n",
    "from sklearn import metrics\n",
    "\n",
    "print(\"[INFO] evaluating network...\")\n",
    "predIdxs = model.predict(x_test, batch_size=BS)\n",
    "predIdxs = np.argmax(predIdxs, axis=1)\n",
    "\n",
    "trainpredIdxs = model.predict(x_train, batch_size=BS)\n",
    "trainpredIdxs = np.argmax(trainpredIdxs, axis=1)\n",
    "\n",
    "trainScore=accuracy_score(trainpredIdxs,y_train.argmax(axis=1))*100\n",
    "Score=accuracy_score(predIdxs,y_test.argmax(axis=1))*100\n",
    "print(\"\\nTrainig Accuracy Score:-\",trainScore)\n",
    "print(\"\\nTesting Accuracy Score:-\",Score)\n",
    "print(\"\\nTraning Graph:- \\n \")\n",
    "\n",
    "# plot the training loss and accuracy\n",
    "N = EPOCHS\n",
    "plt.style.use(\"ggplot\")\n",
    "plt.figure()\n",
    "plt.plot(np.arange(0, N), h.history[\"loss\"], label=\"train_loss\")\n",
    "plt.plot(np.arange(0, N), h.history[\"accuracy\"], label=\"train_acc\")\n",
    "plt.title(\"Training Loss and Accuracy\")\n",
    "plt.xlabel(\"Epoch #\")\n",
    "plt.ylabel(\"Loss/Accuracy\")\n",
    "plt.legend(loc=\"lower left\",)\n",
    "plt.show()"
   ]
  },
  {
   "cell_type": "code",
   "execution_count": 11,
   "id": "7d489325",
   "metadata": {},
   "outputs": [
    {
     "name": "stdout",
     "output_type": "stream",
     "text": [
      "86/86 [==============================] - 331s 4s/step\n",
      "29/29 [==============================] - 113s 4s/step\n",
      "(2746, 8192)\n"
     ]
    }
   ],
   "source": [
    "extract = Model(model.inputs, model.layers[-3].output)\n",
    "\n",
    "#del(data)\n",
    "#del(labels)\n",
    "feat_train  = extract.predict(x_train)  \n",
    "feat_test = extract.predict(x_test)   \n",
    "print(feat_train.shape)\n"
   ]
  },
  {
   "cell_type": "markdown",
   "id": "e3e308f5",
   "metadata": {},
   "source": [
    "##### Machine learning"
   ]
  },
  {
   "cell_type": "markdown",
   "id": "fc7853f1",
   "metadata": {},
   "source": [
    "## support vector machine"
   ]
  },
  {
   "cell_type": "code",
   "execution_count": 12,
   "id": "02af2dd7",
   "metadata": {},
   "outputs": [
    {
     "name": "stdout",
     "output_type": "stream",
     "text": [
      "SVM Training Accuracy Score:- 88.05535324107792\n",
      "\n",
      "SVM Testing Accuracy Score:- 70.63318777292577\n"
     ]
    }
   ],
   "source": [
    "from sklearn.svm import SVC\n",
    "\n",
    "svm = SVC(kernel='linear')\n",
    "svm.fit(feat_train,np.argmax(y_train,axis=1))\n",
    "\n",
    "TrainSVMScore=svm.score(feat_train,np.argmax(y_train,axis=1))*100\n",
    "print(\"SVM Training Accuracy Score:-\",TrainSVMScore)\n",
    "\n",
    "TestSVMScore=svm.score(feat_test,np.argmax(y_test,axis=1))*100\n",
    "print(\"\\nSVM Testing Accuracy Score:-\",TestSVMScore)"
   ]
  },
  {
   "cell_type": "code",
   "execution_count": 13,
   "id": "e69c4aef",
   "metadata": {},
   "outputs": [
    {
     "name": "stdout",
     "output_type": "stream",
     "text": [
      "Decision Tree Training Accuracy Score:- 99.59941733430443\n",
      "\n",
      "Decision Tree Testing Accuracy Score:- 67.46724890829694\n"
     ]
    }
   ],
   "source": [
    "from sklearn.tree import DecisionTreeClassifier\n",
    "\n",
    "clf = DecisionTreeClassifier(random_state=0)\n",
    "clf = clf.fit(feat_train,np.argmax(y_train,axis=1))\n",
    "\n",
    "TrainDecisionScore=clf.score(feat_train,np.argmax(y_train,axis=1))*100\n",
    "print(\"Decision Tree Training Accuracy Score:-\",TrainDecisionScore)\n",
    "\n",
    "\n",
    "TestDecisionScore=clf.score(feat_test,np.argmax(y_test,axis=1))*100\n",
    "print(\"\\nDecision Tree Testing Accuracy Score:-\",TestDecisionScore)"
   ]
  },
  {
   "cell_type": "code",
   "execution_count": 14,
   "id": "7eb038a9",
   "metadata": {},
   "outputs": [
    {
     "name": "stderr",
     "output_type": "stream",
     "text": [
      "D:\\IDE\\lib\\site-packages\\sklearn\\neighbors\\_classification.py:228: FutureWarning: Unlike other reduction functions (e.g. `skew`, `kurtosis`), the default behavior of `mode` typically preserves the axis it acts along. In SciPy 1.11.0, this behavior will change: the default value of `keepdims` will become False, the `axis` over which the statistic is taken will be eliminated, and the value None will no longer be accepted. Set `keepdims` to True or False to avoid this warning.\n",
      "  mode, _ = stats.mode(_y[neigh_ind, k], axis=1)\n"
     ]
    },
    {
     "name": "stdout",
     "output_type": "stream",
     "text": [
      "KNN Training Accuracy Score:- 79.67953386744355\n",
      "\n",
      "KNN Testing Accuracy Score:- 73.7991266375546\n"
     ]
    },
    {
     "name": "stderr",
     "output_type": "stream",
     "text": [
      "D:\\IDE\\lib\\site-packages\\sklearn\\neighbors\\_classification.py:228: FutureWarning: Unlike other reduction functions (e.g. `skew`, `kurtosis`), the default behavior of `mode` typically preserves the axis it acts along. In SciPy 1.11.0, this behavior will change: the default value of `keepdims` will become False, the `axis` over which the statistic is taken will be eliminated, and the value None will no longer be accepted. Set `keepdims` to True or False to avoid this warning.\n",
      "  mode, _ = stats.mode(_y[neigh_ind, k], axis=1)\n"
     ]
    }
   ],
   "source": [
    "from sklearn.neighbors import KNeighborsClassifier\n",
    "\n",
    "knn = KNeighborsClassifier(n_neighbors=5)\n",
    "knn.fit(feat_train,np.argmax(y_train,axis=1))\n",
    "\n",
    "TrainKNNScore=knn.score(feat_train,np.argmax(y_train,axis=1))*100\n",
    "print(\"KNN Training Accuracy Score:-\",TrainKNNScore)\n",
    "\n",
    "TestKNNScore=knn.score(feat_test,np.argmax(y_test,axis=1))*100\n",
    "print(\"\\nKNN Testing Accuracy Score:-\",TestKNNScore)"
   ]
  },
  {
   "cell_type": "code",
   "execution_count": 15,
   "id": "9c866220",
   "metadata": {},
   "outputs": [
    {
     "name": "stdout",
     "output_type": "stream",
     "text": [
      "\n",
      "GaussianNaive Bayes Training Accuracy Score:- 47.1959213401311\n",
      "\n",
      "GaussianNaive Bayes Testing Accuracy Score:- 41.48471615720524\n"
     ]
    }
   ],
   "source": [
    "from sklearn.naive_bayes import GaussianNB\n",
    "\n",
    "gnb = GaussianNB()\n",
    "gnb.fit(feat_train,np.argmax(y_train,axis=1))\n",
    "\n",
    "TrainNBScore=gnb.score(feat_train,np.argmax(y_train,axis=1))*100\n",
    "print(\"\\nGaussianNaive Bayes Training Accuracy Score:-\",TrainNBScore)\n",
    "\n",
    "TestNBScore=gnb.score(feat_test,np.argmax(y_test,axis=1))*100\n",
    "print(\"\\nGaussianNaive Bayes Testing Accuracy Score:-\",TestNBScore)"
   ]
  },
  {
   "cell_type": "code",
   "execution_count": 16,
   "id": "0301df03",
   "metadata": {},
   "outputs": [
    {
     "name": "stdout",
     "output_type": "stream",
     "text": [
      "--Training Accuracy..\n",
      "VGG Accuracy:- 68.90 %\n",
      "VGG-SVM Accuracy:- 88.06 %\n",
      "VGG-DT Accuracy:- 99.60 %\n",
      "VGG-KNN Accuracy:- 79.68 %\n",
      "VGG-NB Accuracy:- 47.20 %\n",
      "\n",
      "--Testing Accuracy..\n",
      "VGG Accuracy:- 70.31 %\n",
      "VGG-SVM Accuracy:- 70.63 %\n",
      "VGG-DT Accuracy:- 67.47 %\n",
      "VGG-KNN Accuracy:- 73.80 %\n",
      "VGG-NB Accuracy:- 41.48 %\n"
     ]
    }
   ],
   "source": [
    "print(\"--Training Accuracy..\")\n",
    "print(\"VGG Accuracy:- {:.2f} %\".format(trainScore))\n",
    "print(\"VGG-SVM Accuracy:- {:.2f} %\".format(TrainSVMScore))\n",
    "print(\"VGG-DT Accuracy:- {:.2f} %\".format(TrainDecisionScore))\n",
    "print(\"VGG-KNN Accuracy:- {:.2f} %\".format(TrainKNNScore))\n",
    "print(\"VGG-NB Accuracy:- {:.2f} %\".format(TrainNBScore))\n",
    "\n",
    "print(\"\\n--Testing Accuracy..\")\n",
    "print(\"VGG Accuracy:- {:.2f} %\".format(Score))\n",
    "print(\"VGG-SVM Accuracy:- {:.2f} %\".format(TestSVMScore))\n",
    "print(\"VGG-DT Accuracy:- {:.2f} %\".format(TestDecisionScore))\n",
    "print(\"VGG-KNN Accuracy:- {:.2f} %\".format(TestKNNScore))\n",
    "print(\"VGG-NB Accuracy:- {:.2f} %\".format(TestNBScore))"
   ]
  },
  {
   "cell_type": "code",
   "execution_count": null,
   "id": "db3aeb2c",
   "metadata": {},
   "outputs": [],
   "source": []
  }
 ],
 "metadata": {
  "kernelspec": {
   "display_name": "Python 3 (ipykernel)",
   "language": "python",
   "name": "python3"
  },
  "language_info": {
   "codemirror_mode": {
    "name": "ipython",
    "version": 3
   },
   "file_extension": ".py",
   "mimetype": "text/x-python",
   "name": "python",
   "nbconvert_exporter": "python",
   "pygments_lexer": "ipython3",
   "version": "3.9.13"
  }
 },
 "nbformat": 4,
 "nbformat_minor": 5
}
